{
 "cells": [
  {
   "cell_type": "markdown",
   "metadata": {
    "application/vnd.databricks.v1+cell": {
     "cellMetadata": {
      "byteLimit": 2048000,
      "rowLimit": 10000
     },
     "inputWidgets": {},
     "nuid": "96816ed7-b08a-4ca3-abb9-f99880c3535d",
     "showTitle": false,
     "tableResultSettingsMap": {},
     "title": ""
    }
   },
   "source": [
    "\n",
    "# Data Architecture, Integration and Ingestion\n",
    "\n",
    "## Trabalho Integrado\n",
    "\n",
    "### Integrantes do Grupo:\n",
    "- PAULO KELLER RM359200\n",
    "- IVAN CARLOS GAZIN - RM359250"
   ]
  },
  {
   "cell_type": "markdown",
   "metadata": {
    "application/vnd.databricks.v1+cell": {
     "cellMetadata": {},
     "inputWidgets": {},
     "nuid": "aa5ebdd1-2c11-4ae3-969a-460f676bd4cc",
     "showTitle": false,
     "tableResultSettingsMap": {},
     "title": ""
    }
   },
   "source": [
    "\n",
    "### Plataforma\n",
    "\n",
    "Este notebook foi desenvolvido utilizando a plataforma Databricks, com liguagem spark.\n"
   ]
  },
  {
   "cell_type": "markdown",
   "metadata": {
    "application/vnd.databricks.v1+cell": {
     "cellMetadata": {
      "byteLimit": 2048000,
      "rowLimit": 10000
     },
     "inputWidgets": {},
     "nuid": "bc9a9347-b449-4c56-baa4-f26b46eca5bc",
     "showTitle": false,
     "tableResultSettingsMap": {},
     "title": ""
    }
   },
   "source": [
    "\n",
    "### Objetivo\n",
    "\n",
    "Realizar análise do arquivo results.csv e responder as perguntas elencadas abaixo\n",
    "\n",
    "##### 1 - Quantos registros existem na base?\n",
    "##### 2 - Quantas equipes únicas mandantes existem na base?\n",
    "##### 3 - Quantas vezes as equipes mandantes saíram vitoriosas?\n",
    "##### 4 - Quantas vezes as equipes visitantes saíram vitoriosas?\n",
    "##### 5 - Quantas partidas resultaram em empate?\n",
    "##### 6 - Quantas partidas foram realizadas em cada país?\n",
    "##### 7 - Qual país teve mais partidas?\n",
    "##### 8 - Qual a partida com maior número de gols?\n",
    "##### 9 - Qual a maior goleada?\n",
    "##### 10 - Quantos jogos ocorreram no Brasil?"
   ]
  },
  {
   "cell_type": "markdown",
   "metadata": {
    "application/vnd.databricks.v1+cell": {
     "cellMetadata": {
      "byteLimit": 2048000,
      "rowLimit": 10000
     },
     "inputWidgets": {},
     "nuid": "788b5f0f-e505-4871-8900-7da9f1989272",
     "showTitle": false,
     "tableResultSettingsMap": {},
     "title": ""
    }
   },
   "source": [
    "## 1.Dicionário de dados\n",
    "\n",
    "##### date - data da partida\n",
    "##### home_team - time mandante\n",
    "##### away_team - time visitante\n",
    "##### home_score - placar do time mandante\n",
    "##### away_score - placar do time visitante\n",
    "##### tournament - torneio\n",
    "##### city - cidade onde a partida foi realizada\n",
    "##### country - país onde a partida foi realizada\n",
    "##### neutral - desconsiderar"
   ]
  },
  {
   "cell_type": "markdown",
   "metadata": {
    "application/vnd.databricks.v1+cell": {
     "cellMetadata": {
      "byteLimit": 2048000,
      "rowLimit": 10000
     },
     "inputWidgets": {},
     "nuid": "95f2455c-dcf8-467d-b12a-511aa5152a75",
     "showTitle": false,
     "tableResultSettingsMap": {},
     "title": ""
    }
   },
   "source": [
    "## 2.Carga de dados"
   ]
  },
  {
   "cell_type": "code",
   "execution_count": 2,
   "metadata": {
    "application/vnd.databricks.v1+cell": {
     "cellMetadata": {
      "byteLimit": 2048000,
      "rowLimit": 10000
     },
     "inputWidgets": {},
     "nuid": "c5e44e9a-1935-4354-93f1-2cb99923e28c",
     "showTitle": true,
     "tableResultSettingsMap": {},
     "title": "Importação de bibliotecas"
    }
   },
   "outputs": [
    {
     "name": "stderr",
     "output_type": "stream",
     "text": [
      "24/12/16 20:22:01 WARN Utils: Your hostname, Paulos-MacBook-Pro.local resolves to a loopback address: 127.0.0.1; using 192.168.15.189 instead (on interface en0)\n",
      "24/12/16 20:22:01 WARN Utils: Set SPARK_LOCAL_IP if you need to bind to another address\n",
      "Setting default log level to \"WARN\".\n",
      "To adjust logging level use sc.setLogLevel(newLevel). For SparkR, use setLogLevel(newLevel).\n",
      "24/12/16 20:22:01 WARN NativeCodeLoader: Unable to load native-hadoop library for your platform... using builtin-java classes where applicable\n"
     ]
    },
    {
     "name": "stdout",
     "output_type": "stream",
     "text": [
      "Welcome to\n",
      "      ____              __\n",
      "     / __/__  ___ _____/ /__\n",
      "    _\\ \\/ _ \\/ _ `/ __/  '_/\n",
      "   /__ / .__/\\_,_/_/ /_/\\_\\   version 3.5.3\n",
      "      /_/\n",
      "\n",
      "Using Python version 3.12.4 (main, Jun 18 2024 10:07:17)\n",
      "Spark context Web UI available at http://192.168.15.189:4040\n",
      "Spark context available as 'sc' (master = local[*], app id = local-1734391322366).\n",
      "SparkSession available as 'spark'.\n"
     ]
    }
   ],
   "source": [
    "from pyspark.sql.functions import *\n",
    "from pyspark.shell import spark"
   ]
  },
  {
   "cell_type": "code",
   "execution_count": 9,
   "metadata": {
    "application/vnd.databricks.v1+cell": {
     "cellMetadata": {
      "byteLimit": 2048000,
      "rowLimit": 10000
     },
     "inputWidgets": {},
     "nuid": "6482be4c-f067-47c9-b0ac-35c938b94601",
     "showTitle": true,
     "tableResultSettingsMap": {},
     "title": "Importação dos dados"
    }
   },
   "outputs": [
    {
     "data": {
      "text/plain": [
       "DataFrame[date: string, home_teamName: string, away_teamName: string, home_scoreHome: string, away_scoreAway: string, tournamentName: string, cityCity: string, countryCountry: string, neutralTRUE: string]"
      ]
     },
     "metadata": {},
     "output_type": "display_data"
    }
   ],
   "source": [
    "# File location and type\n",
    "file_location = \"results.csv\"\n",
    "file_type = \"csv\"\n",
    "\n",
    "# CSV options\n",
    "infer_schema = \"false\"\n",
    "first_row_is_header = \"true\"\n",
    "delimiter = \",\"\n",
    "\n",
    "# The applied options are for CSV files. For other file types, these will be ignored.\n",
    "df = spark.read.format(file_type) \\\n",
    "  .option(\"inferSchema\", infer_schema) \\\n",
    "  .option(\"header\", first_row_is_header) \\\n",
    "  .option(\"sep\", delimiter) \\\n",
    "  .load(file_location)\n",
    "\n",
    "display(df)"
   ]
  },
  {
   "cell_type": "code",
   "execution_count": 10,
   "metadata": {
    "application/vnd.databricks.v1+cell": {
     "cellMetadata": {
      "byteLimit": 2048000,
      "rowLimit": 10000
     },
     "inputWidgets": {},
     "nuid": "66c1697f-3d34-40c6-9b8a-fc88b5cf3b60",
     "showTitle": true,
     "tableResultSettingsMap": {},
     "title": "Criação de cash da leitura do CSV"
    }
   },
   "outputs": [
    {
     "data": {
      "text/plain": [
       "40839"
      ]
     },
     "execution_count": 10,
     "metadata": {},
     "output_type": "execute_result"
    }
   ],
   "source": [
    "df.cache().count()"
   ]
  },
  {
   "cell_type": "code",
   "execution_count": 11,
   "metadata": {
    "application/vnd.databricks.v1+cell": {
     "cellMetadata": {
      "byteLimit": 2048000,
      "rowLimit": 10000
     },
     "inputWidgets": {},
     "nuid": "8f88f0ac-f1b7-4525-89ca-9a67cc70a0f0",
     "showTitle": true,
     "tableResultSettingsMap": {},
     "title": "Transforma o data frame em temp view"
    }
   },
   "outputs": [],
   "source": [
    "df.createOrReplaceTempView('BASE_INICIAL')"
   ]
  },
  {
   "cell_type": "code",
   "execution_count": 15,
   "metadata": {
    "application/vnd.databricks.v1+cell": {
     "cellMetadata": {
      "byteLimit": 2048000,
      "rowLimit": 10000
     },
     "inputWidgets": {},
     "nuid": "09d9a141-afda-4ec2-a902-895f39368b9c",
     "showTitle": true,
     "tableResultSettingsMap": {},
     "title": "Tratamento de dados"
    }
   },
   "outputs": [],
   "source": [
    "# Criação de função contendo o tratamento dos dados, com a formatação dos valores numéricos para INT e criação de 2 novas colunas contento o total de gols da partida e a diferença absoluta de gols entre as equipes\n",
    "\n",
    "def gera_tabela_tratada():\n",
    "  df = spark.sql(\"\"\"\n",
    "    SELECT\n",
    "      CAST(date AS DATE)                                  AS DATA_JOGO,\n",
    "      home_teamName                                       AS EQUIPE_MANDANTE,\n",
    "      away_teamName                                       AS EQUIPE_VISITANTE,\n",
    "      CAST(home_scoreHome AS INT)                         AS GOLS_MANDANTE,\n",
    "      CAST(away_scoreAway AS INT)                         AS GOLS_VISITANTE,\n",
    "      CAST(home_scoreHome + away_scoreAway AS INT)        AS GOLS_TOTAL,\n",
    "      CAST(ABS(home_scoreHome - away_scoreAway) AS INT)   AS GOLS_DIFERENCA_ABS,\n",
    "      tournamentName                                      AS TORNEIO,\n",
    "      cityCity                                            AS CIDADE,\n",
    "      countryCountry                                      AS PAIS    \n",
    "    FROM BASE_INICIAL\n",
    "    WHERE\n",
    "        1=1\n",
    "  \"\"\")\n",
    "  df.createOrReplaceTempView(\"RESULTADOS_JOGOS\")"
   ]
  },
  {
   "cell_type": "code",
   "execution_count": 17,
   "metadata": {
    "application/vnd.databricks.v1+cell": {
     "cellMetadata": {
      "byteLimit": 2048000,
      "rowLimit": 10000
     },
     "inputWidgets": {},
     "nuid": "d49641a5-1136-4695-83d3-c22d74a1aea6",
     "showTitle": true,
     "tableResultSettingsMap": {},
     "title": "Execução da função"
    }
   },
   "outputs": [],
   "source": [
    "# Cria comando para execução da função de tratamento de dados\n",
    "\n",
    "gera_tabela_tratada()"
   ]
  },
  {
   "cell_type": "code",
   "execution_count": 27,
   "metadata": {
    "application/vnd.databricks.v1+cell": {
     "cellMetadata": {
      "byteLimit": 2048000,
      "implicitDf": true,
      "rowLimit": 10000
     },
     "inputWidgets": {},
     "nuid": "3c74c0d7-6b6f-41a2-b571-2230dd34452a",
     "showTitle": true,
     "tableResultSettingsMap": {},
     "title": "Verificação base de dados tratada"
    }
   },
   "outputs": [
    {
     "name": "stdout",
     "output_type": "stream",
     "text": [
      "+----------+----------------+----------------+-------------+--------------+----------+------------------+--------+---------+-------------------+\n",
      "| DATA_JOGO| EQUIPE_MANDANTE|EQUIPE_VISITANTE|GOLS_MANDANTE|GOLS_VISITANTE|GOLS_TOTAL|GOLS_DIFERENCA_ABS| TORNEIO|   CIDADE|               PAIS|\n",
      "+----------+----------------+----------------+-------------+--------------+----------+------------------+--------+---------+-------------------+\n",
      "|1872-11-30|        Scotland|         England|            0|             0|         0|                 0|Friendly|  Glasgow|           Scotland|\n",
      "|1873-03-08|         England|        Scotland|            4|             2|         6|                 2|Friendly|   London|            England|\n",
      "|1874-03-07|        Scotland|         England|            2|             1|         3|                 1|Friendly|  Glasgow|           Scotland|\n",
      "|1875-03-06|         England|        Scotland|            2|             2|         4|                 0|Friendly|   London|            England|\n",
      "|1876-03-04|        Scotland|         England|            3|             0|         3|                 3|Friendly|  Glasgow|           Scotland|\n",
      "|1876-03-25|        Scotland|           Wales|            4|             0|         4|                 4|Friendly|  Glasgow|           Scotland|\n",
      "|1877-03-03|         England|        Scotland|            1|             3|         4|                 2|Friendly|   London|            England|\n",
      "|1877-03-05|           Wales|        Scotland|            0|             2|         2|                 2|Friendly|  Wrexham|              Wales|\n",
      "|1878-03-02|        Scotland|         England|            7|             2|         9|                 5|Friendly|  Glasgow|           Scotland|\n",
      "|1878-03-23|        Scotland|           Wales|            9|             0|         9|                 9|Friendly|  Glasgow|           Scotland|\n",
      "|1879-01-18|         England|           Wales|            2|             1|         3|                 1|Friendly|   London|            England|\n",
      "|1879-04-05|         England|        Scotland|            5|             4|         9|                 1|Friendly|   London|            England|\n",
      "|1879-04-07|           Wales|        Scotland|            0|             3|         3|                 3|Friendly|  Wrexham|              Wales|\n",
      "|1880-03-13|        Scotland|         England|            5|             4|         9|                 1|Friendly|  Glasgow|           Scotland|\n",
      "|1880-03-15|           Wales|         England|            2|             3|         5|                 1|Friendly|  Wrexham|              Wales|\n",
      "|1880-03-27|        Scotland|           Wales|            5|             1|         6|                 4|Friendly|  Glasgow|           Scotland|\n",
      "|1881-02-26|         England|           Wales|            0|             1|         1|                 1|Friendly|Blackburn|            England|\n",
      "|1881-03-12|         England|        Scotland|            1|             6|         7|                 5|Friendly|   London|            England|\n",
      "|1881-03-14|           Wales|        Scotland|            1|             5|         6|                 4|Friendly|  Wrexham|              Wales|\n",
      "|1882-02-18|Northern Ireland|         England|            0|            13|        13|                13|Friendly|  Belfast|Republic of Ireland|\n",
      "+----------+----------------+----------------+-------------+--------------+----------+------------------+--------+---------+-------------------+\n",
      "only showing top 20 rows\n",
      "\n"
     ]
    }
   ],
   "source": [
    "query_result = spark.sql(\"SELECT * FROM RESULTADOS_JOGOS\")\n",
    "query_result.show()"
   ]
  },
  {
   "cell_type": "markdown",
   "metadata": {
    "application/vnd.databricks.v1+cell": {
     "cellMetadata": {},
     "inputWidgets": {},
     "nuid": "b8271eba-f650-450a-a101-40c10aef8809",
     "showTitle": false,
     "tableResultSettingsMap": {},
     "title": ""
    }
   },
   "source": [
    "## 3.Questões e Respostas"
   ]
  },
  {
   "cell_type": "markdown",
   "metadata": {},
   "source": [
    "-- 1 - Quantos registros existem na base?\n",
    "-- R: A base possui 40839 registros"
   ]
  },
  {
   "cell_type": "code",
   "execution_count": 46,
   "metadata": {
    "application/vnd.databricks.v1+cell": {
     "cellMetadata": {
      "byteLimit": 2048000,
      "implicitDf": true,
      "rowLimit": 10000
     },
     "inputWidgets": {},
     "nuid": "0aebe998-c2fc-4302-ac48-421ecdfe6c8a",
     "showTitle": true,
     "tableResultSettingsMap": {},
     "title": "Questão 01"
    }
   },
   "outputs": [
    {
     "name": "stdout",
     "output_type": "stream",
     "text": [
      "+------------+\n",
      "|NR_REGISTROS|\n",
      "+------------+\n",
      "|       40839|\n",
      "+------------+\n",
      "\n"
     ]
    }
   ],
   "source": [
    "query_result = spark.sql(\"SELECT COUNT(*) AS NR_REGISTROS FROM RESULTADOS_JOGOS\")\n",
    "query_result.show()"
   ]
  },
  {
   "cell_type": "markdown",
   "metadata": {},
   "source": [
    "-- 2 - Quantas equipes únicas mandantes existem na base?\n",
    "-- R: A base possui 309 equipes únicas mandantes"
   ]
  },
  {
   "cell_type": "code",
   "execution_count": 48,
   "metadata": {
    "application/vnd.databricks.v1+cell": {
     "cellMetadata": {
      "byteLimit": 2048000,
      "implicitDf": true,
      "rowLimit": 10000
     },
     "inputWidgets": {},
     "nuid": "00cf29ef-99b6-415c-8850-3beea813bc09",
     "showTitle": true,
     "tableResultSettingsMap": {},
     "title": "Questão 02"
    }
   },
   "outputs": [
    {
     "name": "stdout",
     "output_type": "stream",
     "text": [
      "+--------------------+\n",
      "|NR_EQUIPES_MANDANTES|\n",
      "+--------------------+\n",
      "|                 309|\n",
      "+--------------------+\n",
      "\n"
     ]
    }
   ],
   "source": [
    "query_result = spark.sql(\"SELECT COUNT(DISTINCT EQUIPE_MANDANTE) AS NR_EQUIPES_MANDANTES FROM RESULTADOS_JOGOS\")\n",
    "query_result.show()"
   ]
  },
  {
   "cell_type": "markdown",
   "metadata": {},
   "source": [
    "-- 3 - Quantas vezes as equipes mandantes saíram vitoriosas?\n",
    "-- R: As equipes mandantes venceram 19856 vezes"
   ]
  },
  {
   "cell_type": "code",
   "execution_count": 51,
   "metadata": {
    "application/vnd.databricks.v1+cell": {
     "cellMetadata": {
      "byteLimit": 2048000,
      "implicitDf": true,
      "rowLimit": 10000
     },
     "inputWidgets": {},
     "nuid": "4ea83b58-5bea-499a-9388-4186632df899",
     "showTitle": true,
     "tableResultSettingsMap": {},
     "title": "Questão 03"
    }
   },
   "outputs": [
    {
     "name": "stdout",
     "output_type": "stream",
     "text": [
      "+--------+\n",
      "|NR_JOGOS|\n",
      "+--------+\n",
      "|   19864|\n",
      "+--------+\n",
      "\n"
     ]
    }
   ],
   "source": [
    "query_result = spark.sql(\"SELECT COUNT(*) AS NR_JOGOS FROM RESULTADOS_JOGOS WHERE GOLS_MANDANTE > GOLS_VISITANTE\")\n",
    "query_result.show()"
   ]
  },
  {
   "cell_type": "markdown",
   "metadata": {},
   "source": [
    "-- 4 - Quantas vezes as equipes visitantes saíram vitoriosas?\n",
    "-- R: As equipes visitantes venceram 11552 vezes"
   ]
  },
  {
   "cell_type": "code",
   "execution_count": 74,
   "metadata": {
    "application/vnd.databricks.v1+cell": {
     "cellMetadata": {
      "byteLimit": 2048000,
      "implicitDf": true,
      "rowLimit": 10000
     },
     "inputWidgets": {},
     "nuid": "b8a823eb-b20a-4b96-b275-c856fbb59f04",
     "showTitle": true,
     "tableResultSettingsMap": {},
     "title": "Questão 04"
    }
   },
   "outputs": [
    {
     "name": "stdout",
     "output_type": "stream",
     "text": [
      "+--------+\n",
      "|NR_JOGOS|\n",
      "+--------+\n",
      "|   11544|\n",
      "+--------+\n",
      "\n"
     ]
    }
   ],
   "source": [
    "query_result = spark.sql(\"SELECT COUNT(*) AS NR_JOGOS FROM RESULTADOS_JOGOS WHERE GOLS_MANDANTE < GOLS_VISITANTE\")\n",
    "query_result.show()"
   ]
  },
  {
   "cell_type": "markdown",
   "metadata": {},
   "source": [
    "-- 5 - Quantas partidas resultaram em empate?\n",
    "-- R: As partidas resultaram em empates 9431 vezes"
   ]
  },
  {
   "cell_type": "code",
   "execution_count": 55,
   "metadata": {
    "application/vnd.databricks.v1+cell": {
     "cellMetadata": {
      "byteLimit": 2048000,
      "implicitDf": true,
      "rowLimit": 10000
     },
     "inputWidgets": {},
     "nuid": "1c6aca46-b603-46cc-af41-c26f50a05c5e",
     "showTitle": true,
     "tableResultSettingsMap": {},
     "title": "Questão 05"
    }
   },
   "outputs": [
    {
     "name": "stdout",
     "output_type": "stream",
     "text": [
      "+--------+\n",
      "|NR_JOGOS|\n",
      "+--------+\n",
      "|    9431|\n",
      "+--------+\n",
      "\n"
     ]
    }
   ],
   "source": [
    "query_result = spark.sql(\"SELECT COUNT(*) AS NR_JOGOS FROM RESULTADOS_JOGOS WHERE GOLS_MANDANTE = GOLS_VISITANTE\")\n",
    "query_result.show()"
   ]
  },
  {
   "cell_type": "markdown",
   "metadata": {},
   "source": [
    "-- 6 - Quantas partidas foram realizadas em cada país?\n",
    "-- R: Segue resposta na query abaixo (total de 266 países sediaram jogos)"
   ]
  },
  {
   "cell_type": "code",
   "execution_count": 76,
   "metadata": {
    "application/vnd.databricks.v1+cell": {
     "cellMetadata": {
      "byteLimit": 2048000,
      "implicitDf": true,
      "rowLimit": 10000
     },
     "inputWidgets": {},
     "nuid": "18244d4a-1adf-4a06-85a5-77f4a794e4ea",
     "showTitle": true,
     "tableResultSettingsMap": {},
     "title": "Questão 06"
    }
   },
   "outputs": [
    {
     "name": "stdout",
     "output_type": "stream",
     "text": [
      "+-------------------+--------+\n",
      "|               PAIS|NR_JOGOS|\n",
      "+-------------------+--------+\n",
      "|               Chad|      40|\n",
      "|             Russia|     209|\n",
      "|           Paraguay|     218|\n",
      "|           Anguilla|      12|\n",
      "|              Yemen|      58|\n",
      "|U.S. Virgin Islands|      15|\n",
      "|     Chinese Taipei|      47|\n",
      "|            Senegal|     202|\n",
      "|             Sweden|     637|\n",
      "|             Guyana|      98|\n",
      "|        Philippines|      83|\n",
      "|              Burma|      79|\n",
      "|             Jersey|      68|\n",
      "|            Eritrea|      16|\n",
      "| Netherlands Guyana|      29|\n",
      "|           Djibouti|      21|\n",
      "|              Tonga|      12|\n",
      "|          Singapore|     368|\n",
      "|           Malaysia|     644|\n",
      "|               Fiji|     139|\n",
      "+-------------------+--------+\n",
      "only showing top 20 rows\n",
      "\n"
     ]
    },
    {
     "data": {
      "text/plain": [
       "266"
      ]
     },
     "execution_count": 76,
     "metadata": {},
     "output_type": "execute_result"
    }
   ],
   "source": [
    "query_result = spark.sql(\"SELECT PAIS, COUNT(*) AS NR_JOGOS FROM RESULTADOS_JOGOS GROUP BY PAIS\")\n",
    "query_result.show()\n",
    "query_result.count()"
   ]
  },
  {
   "cell_type": "markdown",
   "metadata": {},
   "source": [
    "-- 7 - Qual país teve mais partidas?\n",
    "-- R: O pais com mais jogos foi United States com 1144 jogos"
   ]
  },
  {
   "cell_type": "code",
   "execution_count": 79,
   "metadata": {
    "application/vnd.databricks.v1+cell": {
     "cellMetadata": {
      "byteLimit": 2048000,
      "implicitDf": true,
      "rowLimit": 10000
     },
     "inputWidgets": {},
     "nuid": "4635273e-56f6-4494-82a6-39743af5860d",
     "showTitle": true,
     "tableResultSettingsMap": {},
     "title": "Questão 07"
    }
   },
   "outputs": [
    {
     "name": "stdout",
     "output_type": "stream",
     "text": [
      "+-------------+--------+\n",
      "|         PAIS|NR_JOGOS|\n",
      "+-------------+--------+\n",
      "|United States|    1144|\n",
      "+-------------+--------+\n",
      "\n"
     ]
    }
   ],
   "source": [
    "query_result = spark.sql(\"\"\"SELECT PAIS, \n",
    "NR_JOGOS FROM ( SELECT PAIS, COUNT(*) AS NR_JOGOS FROM RESULTADOS_JOGOS GROUP BY PAIS) \n",
    "ORDER BY NR_JOGOS DESC LIMIT 1\"\"\")\n",
    "query_result.show()"
   ]
  },
  {
   "cell_type": "markdown",
   "metadata": {},
   "source": [
    "-- 8 - Qual a partida com maior número de gols?\n",
    "-- R: A partida com maior número de gols foi realizada no dia 11/04/2021 na Australia entre as equipes Australia e American Samoa pelo torneio FIFA World Cup qualification, com um total de 31 gols"
   ]
  },
  {
   "cell_type": "code",
   "execution_count": 84,
   "metadata": {
    "application/vnd.databricks.v1+cell": {
     "cellMetadata": {
      "byteLimit": 2048000,
      "implicitDf": true,
      "rowLimit": 10000
     },
     "inputWidgets": {},
     "nuid": "7264b263-01cd-400b-8380-1dcd8b625c8f",
     "showTitle": true,
     "tableResultSettingsMap": {},
     "title": "Questão 08"
    }
   },
   "outputs": [
    {
     "name": "stdout",
     "output_type": "stream",
     "text": [
      "+----------+---------------+----------------+-------------+--------------+----------+--------------------+-------------+----------------+\n",
      "| DATA_JOGO|EQUIPE_MANDANTE|EQUIPE_VISITANTE|GOLS_MANDANTE|GOLS_VISITANTE|GOLS_TOTAL|             TORNEIO|       CIDADE|            PAIS|\n",
      "+----------+---------------+----------------+-------------+--------------+----------+--------------------+-------------+----------------+\n",
      "|2001-04-11|      Australia|  American Samoa|           31|             0|        31|FIFA World Cup qu...|Coffs Harbour|       Australia|\n",
      "|1971-09-13|         Tahiti|    Cook Islands|           30|             0|        30| South Pacific Games|      Papeete|French Polynesia|\n",
      "|1979-08-30|           Fiji|        Kiribati|           24|             0|        24| South Pacific Games|      Nausori|            Fiji|\n",
      "|2001-04-09|      Australia|           Tonga|           22|             0|        22|FIFA World Cup qu...|Coffs Harbour|       Australia|\n",
      "|2006-11-24|          Sápmi|          Monaco|           21|             1|        22|      Viva World Cup|       Hyères|          France|\n",
      "+----------+---------------+----------------+-------------+--------------+----------+--------------------+-------------+----------------+\n",
      "\n"
     ]
    }
   ],
   "source": [
    "query_result = spark.sql(\"\"\"SELECT DATA_JOGO, \n",
    "EQUIPE_MANDANTE, \n",
    "EQUIPE_VISITANTE, \n",
    "GOLS_MANDANTE, \n",
    "GOLS_VISITANTE, \n",
    "GOLS_TOTAL, \n",
    "TORNEIO, \n",
    "CIDADE, PAIS \n",
    "FROM RESULTADOS_JOGOS\n",
    "ORDER BY\n",
    "  GOLS_TOTAL DESC\n",
    "LIMIT 5\"\"\")\n",
    "query_result.show()"
   ]
  },
  {
   "cell_type": "markdown",
   "metadata": {},
   "source": [
    "-- 9 - Qual a maior goleada?\n",
    "-- R: A maior goleada foi realizada pela equipe Australia contra American Samoa, com uma diferença de 31 gols"
   ]
  },
  {
   "cell_type": "code",
   "execution_count": 87,
   "metadata": {
    "application/vnd.databricks.v1+cell": {
     "cellMetadata": {
      "byteLimit": 2048000,
      "implicitDf": true,
      "rowLimit": 10000
     },
     "inputWidgets": {},
     "nuid": "bab541b4-44c8-4d5d-bbad-1c6bdd9c695b",
     "showTitle": true,
     "tableResultSettingsMap": {},
     "title": "Questão 09"
    }
   },
   "outputs": [
    {
     "name": "stdout",
     "output_type": "stream",
     "text": [
      "+----------+---------------+----------------+-------------+--------------+------------------+--------------------+-------------+----------------+\n",
      "| DATA_JOGO|EQUIPE_MANDANTE|EQUIPE_VISITANTE|GOLS_MANDANTE|GOLS_VISITANTE|GOLS_DIFERENCA_ABS|             TORNEIO|       CIDADE|            PAIS|\n",
      "+----------+---------------+----------------+-------------+--------------+------------------+--------------------+-------------+----------------+\n",
      "|2001-04-11|      Australia|  American Samoa|           31|             0|                31|FIFA World Cup qu...|Coffs Harbour|       Australia|\n",
      "|1971-09-13|         Tahiti|    Cook Islands|           30|             0|                30| South Pacific Games|      Papeete|French Polynesia|\n",
      "|1979-08-30|           Fiji|        Kiribati|           24|             0|                24| South Pacific Games|      Nausori|            Fiji|\n",
      "|2001-04-09|      Australia|           Tonga|           22|             0|                22|FIFA World Cup qu...|Coffs Harbour|       Australia|\n",
      "|2005-03-11|           Guam|     North Korea|            0|            21|                21|   EAFF Championship|       Taipei|  Chinese Taipei|\n",
      "+----------+---------------+----------------+-------------+--------------+------------------+--------------------+-------------+----------------+\n",
      "\n"
     ]
    }
   ],
   "source": [
    "query_result = spark.sql(\"\"\"SELECT \n",
    "  DATA_JOGO,\n",
    "  EQUIPE_MANDANTE,\n",
    "  EQUIPE_VISITANTE,\n",
    "  GOLS_MANDANTE,\n",
    "  GOLS_VISITANTE,\n",
    "  GOLS_DIFERENCA_ABS,\n",
    "  TORNEIO,\n",
    "  CIDADE,\n",
    "  PAIS \n",
    "FROM RESULTADOS_JOGOS\n",
    "ORDER BY\n",
    "  GOLS_DIFERENCA_ABS DESC\n",
    "LIMIT 5\"\"\")\n",
    "query_result.show()"
   ]
  },
  {
   "cell_type": "markdown",
   "metadata": {},
   "source": [
    "-- 10 - Quantos jogos ocorreram no Brasil?\n",
    "-- R: No total ocorrem 529 jogos no Brasil"
   ]
  },
  {
   "cell_type": "code",
   "execution_count": 92,
   "metadata": {
    "application/vnd.databricks.v1+cell": {
     "cellMetadata": {
      "byteLimit": 2048000,
      "implicitDf": true,
      "rowLimit": 10000
     },
     "inputWidgets": {},
     "nuid": "83f76433-43f4-4224-9f96-d049e823e2d7",
     "showTitle": true,
     "tableResultSettingsMap": {},
     "title": "Questão 10"
    }
   },
   "outputs": [
    {
     "name": "stdout",
     "output_type": "stream",
     "text": [
      "+------+--------+\n",
      "|  PAIS|NR_JOGOS|\n",
      "+------+--------+\n",
      "|Brazil|     529|\n",
      "+------+--------+\n",
      "\n"
     ]
    }
   ],
   "source": [
    "query_result = spark.sql(\"\"\"SELECT\n",
    "  PAIS,\n",
    "  COUNT(*)    AS NR_JOGOS\n",
    "FROM RESULTADOS_JOGOS\n",
    "WHERE \n",
    "    UPPER(TRIM(PAIS)) = 'BRAZIL'\n",
    "OR  UPPER(TRIM(PAIS)) = 'BRASIL'\n",
    "GROUP BY \n",
    "  PAIS\"\"\")\n",
    "query_result.show()"
   ]
  },
  {
   "cell_type": "code",
   "execution_count": null,
   "metadata": {},
   "outputs": [],
   "source": []
  }
 ],
 "metadata": {
  "application/vnd.databricks.v1+notebook": {
   "computePreferences": null,
   "dashboards": [],
   "environmentMetadata": null,
   "language": "python",
   "notebookMetadata": {
    "mostRecentlyExecutedCommandWithImplicitDF": {
     "commandId": 3176185178789815,
     "dataframes": [
      "_sqldf"
     ]
    },
    "pythonIndentUnit": 4
   },
   "notebookName": "Trabalho Integrado - 10DTSR - Data Architeture",
   "widgets": {}
  },
  "kernelspec": {
   "display_name": "Python 3 (ipykernel)",
   "language": "python",
   "name": "python3"
  },
  "language_info": {
   "codemirror_mode": {
    "name": "ipython",
    "version": 3
   },
   "file_extension": ".py",
   "mimetype": "text/x-python",
   "name": "python",
   "nbconvert_exporter": "python",
   "pygments_lexer": "ipython3",
   "version": "3.12.4"
  }
 },
 "nbformat": 4,
 "nbformat_minor": 4
}
