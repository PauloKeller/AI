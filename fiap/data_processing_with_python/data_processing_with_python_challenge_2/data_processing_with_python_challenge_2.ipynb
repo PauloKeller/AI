{
 "cells": [
  {
   "cell_type": "markdown",
   "id": "d3cbd0b9-aac9-4322-af06-b2733a171468",
   "metadata": {},
   "source": [
    "<h1>Exercícios - Funções</h1>"
   ]
  },
  {
   "cell_type": "markdown",
   "id": "85d85a94-d405-48a2-9be1-0edd625073b1",
   "metadata": {},
   "source": [
    "<p>⦁  Crie uma função chamada calcular_media que recebe uma lista de números como argumento e retorna a média desses números.</p>"
   ]
  },
  {
   "cell_type": "code",
   "execution_count": 5,
   "id": "88ccc727-72c7-451f-8569-6c6692d6af19",
   "metadata": {},
   "outputs": [
    {
     "name": "stdout",
     "output_type": "stream",
     "text": [
      "Help on function calcular_media in module __main__:\n",
      "\n",
      "calcular_media(scores: list[int] = [])\n",
      "    This function takes a list of numbers as student's tests score and returns the average of those.\n",
      "\n",
      "    Parameters:\n",
      "    score (list[int]): The student's scores.\n",
      "\n",
      "    Returns:\n",
      "    int: The sum of scores and divided by the amount (size) of scores.\n",
      "\n",
      "6.75\n"
     ]
    }
   ],
   "source": [
    "def calcular_media(scores: list[int] = []):\n",
    "    \"\"\"\n",
    "    This function takes a list of numbers as student's tests score and returns the average of those.\n",
    "\n",
    "    Parameters:\n",
    "    score (list[int]): The student's scores.\n",
    "\n",
    "    Returns:\n",
    "    int: The sum of scores and divided by the amount (size) of scores.\n",
    "    \"\"\"\n",
    "\n",
    "    result = sum(scores) / len(scores)\n",
    "    return result\n",
    "\n",
    "help(calcular_media)\n",
    "\n",
    "scores = [6, 4, 7, 10]\n",
    "print(calcular_media(scores))"
   ]
  },
  {
   "cell_type": "markdown",
   "id": "9c53e157-5f5f-4132-8ae4-f3611c3aa3b7",
   "metadata": {},
   "source": [
    "<p>⦁\tCrie uma função chamada verificar_paridade que recebe um número como argumento e retorna se o número é par ou ímpar.</p>\n"
   ]
  },
  {
   "cell_type": "code",
   "execution_count": 8,
   "id": "28758de4-68c5-4c7c-afbc-9dc21fcbb559",
   "metadata": {},
   "outputs": [
    {
     "name": "stdout",
     "output_type": "stream",
     "text": [
      "False\n",
      "True\n"
     ]
    }
   ],
   "source": [
    "def verificar_paridade(number: int):\n",
    "    \"\"\"\n",
    "    This function takes a number and check if it's a even dividing it by 2.\n",
    "\n",
    "    Parameters:\n",
    "    numer (int): The number.\n",
    "\n",
    "    Returns:\n",
    "    bool: Check that the remainder of the operation of, number divided by 2 is 0.\n",
    "    \"\"\"\n",
    "\n",
    "    return number % 2 == 0\n",
    "\n",
    "print(verificar_paridade(5))\n",
    "print(verificar_paridade(6))"
   ]
  },
  {
   "cell_type": "markdown",
   "id": "323e7141-da63-485c-8a6f-09ce4e1db67e",
   "metadata": {},
   "source": [
    "<p>⦁\tCrie uma função lambda que recebe dois números como argumentos e retorna o primeiro número elevado à potência do segundo número.</p>"
   ]
  },
  {
   "cell_type": "code",
   "execution_count": 26,
   "id": "3ae0f210-3eaa-4880-8347-a436b1dac566",
   "metadata": {},
   "outputs": [
    {
     "name": "stdout",
     "output_type": "stream",
     "text": [
      "8\n"
     ]
    }
   ],
   "source": [
    "\"\"\"\n",
    "This function takes 2 numbers base, exponent and give the exponentiation as result.\n",
    "\n",
    "Parameters:\n",
    "base (int): The base number.\n",
    "exponent (int): The exponent number.\n",
    "\n",
    "Returns:\n",
    "int: The result of exponentiation.\n",
    "\"\"\"\n",
    "\n",
    "potencia = lambda base, exponent : base ** exponent\n",
    "\n",
    "print(potencia(2, 3))"
   ]
  },
  {
   "cell_type": "markdown",
   "id": "ac5a93a1-824a-4afa-968c-4064e205ebcd",
   "metadata": {},
   "source": [
    "<h1>Exercícios - Pacotes</h1>"
   ]
  },
  {
   "cell_type": "markdown",
   "id": "edaf76be-67bc-4f2c-8401-ddea0207ee44",
   "metadata": {},
   "source": [
    "<p>⦁\tCrie um módulo Python com uma função que imprime uma mensagem. Importe e execute essa função em outro script Python.</p>"
   ]
  },
  {
   "cell_type": "code",
   "execution_count": 21,
   "id": "9d86897c-050f-4a7b-bb78-8ba33a785c17",
   "metadata": {},
   "outputs": [
    {
     "name": "stdout",
     "output_type": "stream",
     "text": [
      "total 24\n",
      "drwxr-xr-x  6 paulokeller  staff   192 Oct 20 12:10 \u001b[1m\u001b[36m.\u001b[m\u001b[m\n",
      "drwxr-xr-x  4 paulokeller  staff   128 Oct 20 12:10 \u001b[1m\u001b[36m..\u001b[m\u001b[m\n",
      "drwxr-xr-x  3 paulokeller  staff    96 Oct 20 12:06 \u001b[1m\u001b[36m.ipynb_checkpoints\u001b[m\u001b[m\n",
      "drwxr-xr-x  3 paulokeller  staff    96 Oct 20 12:10 \u001b[1m\u001b[36m__pycache__\u001b[m\u001b[m\n",
      "-rw-r--r--  1 paulokeller  staff  4955 Oct 20 12:10 data_processing_with_python_challenge_2.ipynb\n",
      "-rw-r--r--  1 paulokeller  staff   130 Oct 20 12:10 my_module.py\n"
     ]
    }
   ],
   "source": [
    "!ls -la"
   ]
  },
  {
   "cell_type": "code",
   "execution_count": 32,
   "id": "b7ac7256-87e5-42d3-866a-fe795c0e8ad3",
   "metadata": {},
   "outputs": [
    {
     "name": "stdout",
     "output_type": "stream",
     "text": [
      "My message!\n"
     ]
    }
   ],
   "source": [
    "import my_module\n",
    "\n",
    "my_module.print_message()"
   ]
  },
  {
   "cell_type": "markdown",
   "id": "a19b947c-d353-4690-ba69-47024204001d",
   "metadata": {},
   "source": [
    "<p>⦁ Crie um pacote Python com dois módulos diferentes. Importe e utilize funções de ambos os módulos em outro script Python.</p>"
   ]
  },
  {
   "cell_type": "code",
   "execution_count": 3,
   "id": "265875e9-9c9a-4c80-a699-483b7158c6a5",
   "metadata": {},
   "outputs": [],
   "source": [
    "from my_package import calculate_average"
   ]
  },
  {
   "cell_type": "code",
   "execution_count": 5,
   "id": "b43ccd3f-a404-477a-8af1-15e855615a6f",
   "metadata": {},
   "outputs": [
    {
     "data": {
      "text/plain": [
       "6.75"
      ]
     },
     "execution_count": 5,
     "metadata": {},
     "output_type": "execute_result"
    }
   ],
   "source": [
    "scores = [6, 4, 7, 10]\n",
    "calculate_average(scores)"
   ]
  },
  {
   "cell_type": "code",
   "execution_count": 9,
   "id": "fe88626f-4eb9-4bf6-8509-50e1b94f64f8",
   "metadata": {},
   "outputs": [],
   "source": [
    "from my_package import hello_message"
   ]
  },
  {
   "cell_type": "code",
   "execution_count": 11,
   "id": "bc55f149-0b65-44a6-bb8a-076f083e9126",
   "metadata": {},
   "outputs": [
    {
     "name": "stdout",
     "output_type": "stream",
     "text": [
      "Just a simple hello message\n"
     ]
    }
   ],
   "source": [
    "hello_message()"
   ]
  },
  {
   "cell_type": "markdown",
   "id": "e99e6aa5-319a-434b-a433-07ace1f28395",
   "metadata": {},
   "source": [
    "<p>⦁ Utilize o pacote requests para fazer uma requisição HTTP em um script Python. Retorne o status_code.\n",
    "</p>"
   ]
  },
  {
   "cell_type": "code",
   "execution_count": 27,
   "id": "6fbd43d8-79b2-4bb7-9dae-91550a165be9",
   "metadata": {},
   "outputs": [],
   "source": [
    "import requests"
   ]
  },
  {
   "cell_type": "code",
   "execution_count": 29,
   "id": "182b8860-599a-4398-9aff-f070be662b90",
   "metadata": {},
   "outputs": [
    {
     "data": {
      "text/plain": [
       "200"
      ]
     },
     "execution_count": 29,
     "metadata": {},
     "output_type": "execute_result"
    }
   ],
   "source": [
    "r = requests.get('https://jsonplaceholder.typicode.com/posts/1')\n",
    "r.status_code"
   ]
  },
  {
   "cell_type": "markdown",
   "id": "e22d6a08-0208-48e4-9890-84e28e160036",
   "metadata": {},
   "source": [
    "<h1>Exercícios - Pacotes</h1>"
   ]
  },
  {
   "cell_type": "markdown",
   "id": "0df9033c-8cab-4ab9-8ee8-1c5b859bf4e9",
   "metadata": {},
   "source": [
    "<p>⦁ Leia o conteúdo de um arquivo de texto e imprima-o na tela.</p>"
   ]
  },
  {
   "cell_type": "code",
   "execution_count": 37,
   "id": "b361bc6d-0514-49b7-af09-923fcf930fcc",
   "metadata": {},
   "outputs": [
    {
     "name": "stdout",
     "output_type": "stream",
     "text": [
      "A simple text file\n"
     ]
    }
   ],
   "source": [
    "f = open(\"text.txt\", \"r\")\n",
    "print(f.read())"
   ]
  },
  {
   "cell_type": "markdown",
   "id": "f91ecdfe-f0a1-4c59-9d5a-28a0ca3d5829",
   "metadata": {},
   "source": [
    "<p>⦁ Solicite ao usuário que digite algumas linhas de texto e grave essas linhas em um arquivo de texto.</p>"
   ]
  },
  {
   "cell_type": "code",
   "execution_count": 52,
   "id": "0ad8d559-d80e-4e59-9bd7-edc2f9ba3ab9",
   "metadata": {},
   "outputs": [
    {
     "name": "stdin",
     "output_type": "stream",
     "text": [
      "Write a message: Hi my name is Paulo!\n"
     ]
    }
   ],
   "source": [
    "user_input = input(\"Write a message:\")\n",
    "\n",
    "f = open(\"write.txt\", \"a\")\n",
    "f.write(user_input)\n",
    "f.close()"
   ]
  },
  {
   "cell_type": "code",
   "execution_count": 54,
   "id": "095a3615-8d5a-448f-904d-9393085b2b49",
   "metadata": {},
   "outputs": [
    {
     "name": "stdout",
     "output_type": "stream",
     "text": [
      "Hi my name is Paulo!\n"
     ]
    }
   ],
   "source": [
    "f = open(\"write.txt\", \"r\")\n",
    "print(f.read())"
   ]
  },
  {
   "cell_type": "markdown",
   "id": "02d793f5-cf1b-4d13-8fda-66fe7af398e0",
   "metadata": {},
   "source": [
    "<h1>Exercícios - Tempo</h1>"
   ]
  },
  {
   "cell_type": "markdown",
   "id": "11016a19-f849-49d7-9123-f3e032c4b390",
   "metadata": {},
   "source": [
    "<p>⦁ Obtenha a data atual e imprima-a na tela.</p>"
   ]
  },
  {
   "cell_type": "code",
   "execution_count": 66,
   "id": "12b9ae38-94da-4a37-bb4a-61d89626b579",
   "metadata": {},
   "outputs": [
    {
     "name": "stdout",
     "output_type": "stream",
     "text": [
      "2024-10-20 16:00:32.123987\n"
     ]
    }
   ],
   "source": [
    "from datetime import datetime\n",
    "print(datetime.today())"
   ]
  },
  {
   "cell_type": "markdown",
   "id": "ac8b18a7-4103-4a7d-bacc-d059c22b0e78",
   "metadata": {},
   "source": [
    "<p>⦁ Obtenha a data atual e imprima-a na tela no formato dia/mês/ano.</p>"
   ]
  },
  {
   "cell_type": "code",
   "execution_count": 83,
   "id": "0667d64c-71bc-4a97-a6ad-373109873f88",
   "metadata": {},
   "outputs": [
    {
     "name": "stdout",
     "output_type": "stream",
     "text": [
      "20/10/2024\n"
     ]
    }
   ],
   "source": [
    "from datetime import datetime\n",
    "print(datetime.today().strftime('%d/%m/%Y'))"
   ]
  },
  {
   "cell_type": "markdown",
   "id": "d4b6bd4c-3b75-4253-8393-83c7c2a08782",
   "metadata": {},
   "source": [
    "<p>⦁ Agende uma tarefa para ser executada daqui a 10 minutos e imprima uma mensagem quando ela for executada.</p>"
   ]
  },
  {
   "cell_type": "code",
   "execution_count": 97,
   "id": "54380c5d-fea1-49e2-b1ac-ae6ce23e46fe",
   "metadata": {},
   "outputs": [],
   "source": [
    "def my_trigger_function(minutes: int):\n",
    "    time.sleep(minutes)\n",
    "    print(\"Trigger fired\")"
   ]
  },
  {
   "cell_type": "code",
   "execution_count": 105,
   "id": "93247d47-3013-4c8c-9820-db408015180d",
   "metadata": {},
   "outputs": [
    {
     "ename": "KeyboardInterrupt",
     "evalue": "",
     "output_type": "error",
     "traceback": [
      "\u001b[0;31m---------------------------------------------------------------------------\u001b[0m",
      "\u001b[0;31mKeyboardInterrupt\u001b[0m                         Traceback (most recent call last)",
      "Cell \u001b[0;32mIn[105], line 2\u001b[0m\n\u001b[1;32m      1\u001b[0m minutes \u001b[38;5;241m=\u001b[39m \u001b[38;5;241m60\u001b[39m \u001b[38;5;241m*\u001b[39m \u001b[38;5;241m10\u001b[39m\n\u001b[0;32m----> 2\u001b[0m my_trigger_function(minutes)\n",
      "Cell \u001b[0;32mIn[97], line 2\u001b[0m, in \u001b[0;36mmy_trigger_function\u001b[0;34m(minutes)\u001b[0m\n\u001b[1;32m      1\u001b[0m \u001b[38;5;28;01mdef\u001b[39;00m \u001b[38;5;21mmy_trigger_function\u001b[39m(minutes: \u001b[38;5;28mint\u001b[39m):\n\u001b[0;32m----> 2\u001b[0m     time\u001b[38;5;241m.\u001b[39msleep(minutes)\n\u001b[1;32m      3\u001b[0m     \u001b[38;5;28mprint\u001b[39m(\u001b[38;5;124m\"\u001b[39m\u001b[38;5;124mTrigger fired\u001b[39m\u001b[38;5;124m\"\u001b[39m)\n",
      "\u001b[0;31mKeyboardInterrupt\u001b[0m: "
     ]
    }
   ],
   "source": [
    "minutes = 60 * 10\n",
    "my_trigger_function(minutes)"
   ]
  },
  {
   "cell_type": "markdown",
   "id": "910e6b72-64de-477d-8cd0-a9e790842d1e",
   "metadata": {},
   "source": [
    "<h1>Exercícios - Regex</h1>"
   ]
  },
  {
   "cell_type": "markdown",
   "id": "9bc9920c-fc42-4126-a91c-e8d17d08a382",
   "metadata": {},
   "source": [
    "<p>⦁ Valide se um endereço de e-mail está em um formato válido usando expressões regulares.</p>"
   ]
  },
  {
   "cell_type": "code",
   "execution_count": 110,
   "id": "6ee70541-846d-414a-9818-ddb5a8a59f3c",
   "metadata": {},
   "outputs": [],
   "source": [
    "import re"
   ]
  },
  {
   "cell_type": "code",
   "execution_count": 124,
   "id": "6214b80d-b824-4a10-9b73-d17225d8f3b8",
   "metadata": {},
   "outputs": [
    {
     "name": "stdout",
     "output_type": "stream",
     "text": [
      "<re.Match object; span=(0, 22), match='paulo.keller@gmail.com'>\n",
      "None\n"
     ]
    }
   ],
   "source": [
    "pattern = r\"^[a-z0-9!#$%&'*+/=?^_`{|}~-]+(?:\\.[a-z0-9!#$%&'*+/=?^_`{|}~-]+)*@(?:[a-z0-9](?:[a-z0-9-]*[a-z0-9])?\\.)+[a-z0-9](?:[a-z0-9-]*[a-z0-9])?$\"\n",
    "\n",
    "# Valid\n",
    "print(re.match(pattern, \"paulo.keller@gmail.com\"))\n",
    "\n",
    "# Invalid\n",
    "print(re.match(pattern, \"paulo.keller.com\"))"
   ]
  },
  {
   "cell_type": "markdown",
   "id": "612fad5b-054b-4248-a810-6477b2b11385",
   "metadata": {},
   "source": [
    "<p>⦁ Extraia todos os números de uma string usando expressões regulares.</p>"
   ]
  },
  {
   "cell_type": "code",
   "execution_count": 129,
   "id": "3fd37a97-2fe5-43c1-93c1-955fb1ced20d",
   "metadata": {},
   "outputs": [
    {
     "name": "stdout",
     "output_type": "stream",
     "text": [
      "['3', '4', '10']\n"
     ]
    }
   ],
   "source": [
    "input_string = \"There are 3 apples, 4 oranges, and 10 bananas.\"\n",
    "\n",
    "numbers = re.findall(r'\\d+', input_string)\n",
    "print(numbers)"
   ]
  },
  {
   "cell_type": "markdown",
   "id": "eb69ce49-0a46-44c8-828a-bfa2e47b7172",
   "metadata": {},
   "source": [
    "<p>⦁ Verifique se uma string está no formato de data dd/mm/aaaa usando expressões regulares.</p>"
   ]
  },
  {
   "cell_type": "code",
   "execution_count": 136,
   "id": "61082e11-d9f9-40ef-a776-33239e178e10",
   "metadata": {},
   "outputs": [
    {
     "name": "stdout",
     "output_type": "stream",
     "text": [
      "True\n",
      "False\n",
      "False\n"
     ]
    }
   ],
   "source": [
    "date1 = \"15/08/2023\"\n",
    "date2 = \"32/01/2023\"\n",
    "date3 = \"01/13/2023\"\n",
    "\n",
    "def validate_date(date_string):\n",
    "    pattern = r'^(0[1-9]|[12][0-9]|3[01])/(0[1-9]|1[0-2])/\\d{4}$'\n",
    "    match = re.match(pattern, date_string)\n",
    "    return match is not None\n",
    "\n",
    "print(validate_date(date1))  # Valid\n",
    "print(validate_date(date2))  # Invalid\n",
    "print(validate_date(date3))  # Invalid"
   ]
  }
 ],
 "metadata": {
  "kernelspec": {
   "display_name": "Python 3 (ipykernel)",
   "language": "python",
   "name": "python3"
  },
  "language_info": {
   "codemirror_mode": {
    "name": "ipython",
    "version": 3
   },
   "file_extension": ".py",
   "mimetype": "text/x-python",
   "name": "python",
   "nbconvert_exporter": "python",
   "pygments_lexer": "ipython3",
   "version": "3.12.4"
  }
 },
 "nbformat": 4,
 "nbformat_minor": 5
}
