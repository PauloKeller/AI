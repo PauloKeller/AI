{
 "cells": [
  {
   "cell_type": "code",
   "execution_count": 252,
   "id": "ef511f4f-ab89-4f04-af0a-a5a9354c11b3",
   "metadata": {},
   "outputs": [],
   "source": [
    "import pandas as pd\n",
    "import numpy as np"
   ]
  },
  {
   "cell_type": "code",
   "execution_count": 315,
   "id": "9e74e35e-9fd2-458b-b0c3-2f62edcbe33d",
   "metadata": {},
   "outputs": [],
   "source": [
    "header_names = [\n",
    "    \"ID_CLIENTE\",\n",
    "    \"TIPO_FUNCIONARIO\",\n",
    "    \"DIA_PAGAMENTO\",\n",
    "    \"TIPO_ENVIO_APLICACAO\",\n",
    "    \"QUANT_CARTOES_ADICIONAIS\",\n",
    "    \"TIPO_ENDERECO_POSTAL\",\n",
    "    \"SEXO\",\n",
    "    \"ESTADO_CIVIL\",\n",
    "    \"QUANT_DEPENDENTE\",\n",
    "    \"NIVEL_EDUCACIONAL\",\n",
    "    \"ESTADO_NASCIMENT\",\n",
    "    \"CIDADE_NASCIMENT\",\n",
    "    \"NACIONALIDADE\",\n",
    "    \"ESTADO_RESIDENCIAL\",\n",
    "    \"CIDADE_RESIDENCIAL\",\n",
    "    \"BAIRRO_RESIDENCIAL\",\n",
    "    \"FLAG_TELEFONE_RESIDENCIAL\",\n",
    "    \"CODIGO_AREA_TELEFONE_RESIDENCIAL\",\n",
    "    \"TIPO_RESIDENCIA\",\n",
    "    \"MESES_RESIDENCIA\",\n",
    "    \"FLAG_TELEFONE_MOVEL\",\n",
    "    \"FLAG_EMAIL\",\n",
    "    \"RENDA_PESSOAL_MENSAL\",\n",
    "    \"OUTRAS_RENDAS\",\n",
    "    \"FLAG_VISA\",\n",
    "    \"FLAG_MASTERCARD\",\n",
    "    \"FLAG_DINERS\",\n",
    "    \"FLAG_AMERICAN_EXPRESS\",\n",
    "    \"FLAG_OUTROS_CARTOES\",\n",
    "    \"QUANT_CONTAS_BANCARIAS\",\n",
    "    \"QUANT_CONTAS_BANCARIAS_ESPECIAIS\",\n",
    "    \"VALOR_PATRIMONIO_PESSOAL\",\n",
    "    \"QUANT_CARROS\",\n",
    "    \"EMPRESA\",\n",
    "    \"ESTADO_PROFISSIONAL\",\n",
    "    \"IDADE_PROFISSIONAL\",\n",
    "    \"BAIRRO_PROFISSIONAL\",\n",
    "    \"FLAG_TELEFONE_PROFISSIONAL\",\n",
    "    \"ODIGO_AREA_TELEFONE_PROFISSIONAL\",\n",
    "    \"MESES_NO_TRABALHO\",\n",
    "    \"CODIGO_PROFISSAO\",\n",
    "    \"TIPO_OCUPACAO\",\n",
    "    \"CODIGO_PROFISSAO_CONJUGE\",\n",
    "    \"NIVEL_EDUCACIONAL_CONJUGE\",\n",
    "    \"FLAG_DOCUMENTO_RESIDENCIAL\",\n",
    "    \"FLAG_RG\",\n",
    "    \"FLAG_CPF\",\n",
    "    \"FLAG_COMPROVANTE_RENDA\",\n",
    "    \"PRODUTO\",\n",
    "    \"FLAG_REGISTRO_ACSP\",\n",
    "    \"IDADE\",\n",
    "    \"CEP_RESIDENCIAL_3\",\n",
    "    \"CEP_PROFISSIONAL_3\",\n",
    "    \"ROTULO_ALVO_MAU=1\",\n",
    "]\n",
    "\n",
    "df = pd.read_csv(\"clean_credit.csv\", encoding='unicode_escape', sep='\\t', engine='python', names=header_names)"
   ]
  },
  {
   "cell_type": "code",
   "execution_count": 349,
   "id": "32cc8a5b-432a-4f0d-a866-4049882c241a",
   "metadata": {},
   "outputs": [],
   "source": [
    "data = np.genfromtxt('credit.csv',delimiter='\\t',usecols=np.arange(0,52))"
   ]
  },
  {
   "cell_type": "code",
   "execution_count": 351,
   "id": "94eda01e-ef24-4299-bc4c-116f4db1c92f",
   "metadata": {},
   "outputs": [
    {
     "data": {
      "text/plain": [
       "(50000, 52)"
      ]
     },
     "execution_count": 351,
     "metadata": {},
     "output_type": "execute_result"
    }
   ],
   "source": [
    "data.shape"
   ]
  },
  {
   "cell_type": "code",
   "execution_count": 355,
   "id": "ea5601a4-d76b-4ea1-b399-93904b7ba8a2",
   "metadata": {},
   "outputs": [
    {
     "data": {
      "text/plain": [
       "array([[    1.,    nan,     5., ...,    nan,    32.,   595.],\n",
       "       [    2.,    nan,    15., ...,    nan,    34.,   230.],\n",
       "       [    3.,    nan,     5., ...,    nan,    27.,   591.],\n",
       "       ...,\n",
       "       [49998.,    nan,     5., ...,    nan,    41.,   715.],\n",
       "       [49999.,    nan,     1., ...,    nan,    28.,   320.],\n",
       "       [50000.,    nan,    10., ...,    nan,    27.,   124.]])"
      ]
     },
     "execution_count": 355,
     "metadata": {},
     "output_type": "execute_result"
    }
   ],
   "source": [
    "data.view()"
   ]
  },
  {
   "cell_type": "code",
   "execution_count": 359,
   "id": "1bf3a7bb-193f-478f-acf9-5168d02dc09a",
   "metadata": {},
   "outputs": [
    {
     "data": {
      "text/plain": [
       "906691"
      ]
     },
     "execution_count": 359,
     "metadata": {},
     "output_type": "execute_result"
    }
   ],
   "source": [
    "np.isnan(data).sum()"
   ]
  },
  {
   "cell_type": "code",
   "execution_count": 363,
   "id": "4fd19d2e-6e7f-4a26-b392-bab20914ea57",
   "metadata": {},
   "outputs": [
    {
     "name": "stdout",
     "output_type": "stream",
     "text": [
      "30011977.0\n"
     ]
    }
   ],
   "source": [
    "valores_nan = np.nanmax(data) + 3\n",
    "print(valores_nan)"
   ]
  },
  {
   "cell_type": "code",
   "execution_count": 369,
   "id": "b5e3971b-e1b2-4a94-9b56-cbb6ed68fde9",
   "metadata": {},
   "outputs": [
    {
     "name": "stdout",
     "output_type": "stream",
     "text": [
      "[   25000.5              nan       12.8699        0.            0.            1.0065           nan        2.1484        0.6505        0.               nan 17156967.6           0.9616           nan\n",
      "           nan           nan           nan       64.5442        1.2522        9.7271           nan        0.8023      886.6784       35.4348        0.1114        0.0975        0.0013        0.0017\n",
      "        0.002         0.3578        0.3578     2322.3724        0.3361           nan           nan           nan           nan           nan       62.397         0.0093        8.0618        2.4843\n",
      "        3.7979        0.296         0.            0.            0.            0.            1.2757           nan       43.2485      585.1658]\n"
     ]
    },
    {
     "name": "stderr",
     "output_type": "stream",
     "text": [
      "/var/folders/4k/q5xn50lx7hb2slknt2ygk7hc0000gn/T/ipykernel_2390/352713117.py:1: RuntimeWarning: Mean of empty slice\n",
      "  media_sem_nan = np.nanmean(data, axis = 0)\n"
     ]
    }
   ],
   "source": [
    "media_sem_nan = np.nanmean(data, axis = 0)\n",
    "print(media_sem_nan)"
   ]
  },
  {
   "cell_type": "code",
   "execution_count": 371,
   "id": "fbacbc06-1862-4511-89f8-7447a8e2f0ae",
   "metadata": {},
   "outputs": [
    {
     "data": {
      "text/plain": [
       "array([ 1,  6, 10, 13, 14, 15, 16, 20, 33, 34, 35, 36, 37, 49])"
      ]
     },
     "execution_count": 371,
     "metadata": {},
     "output_type": "execute_result"
    }
   ],
   "source": [
    "cols_str = np.argwhere(np.isnan(media_sem_nan)).squeeze() \n",
    "cols_str"
   ]
  },
  {
   "cell_type": "code",
   "execution_count": 373,
   "id": "044874f5-2265-480f-8d4f-8ed4d80d6279",
   "metadata": {},
   "outputs": [
    {
     "data": {
      "text/plain": [
       "array([ 0,  2,  3,  4,  5,  7,  8,  9, 11, 12, 17, 18, 19, 21, 22, 23, 24, 25, 26, 27, 28, 29, 30, 31, 32, 38, 39, 40, 41, 42, 43, 44, 45, 46, 47, 48, 50, 51])"
      ]
     },
     "execution_count": 373,
     "metadata": {},
     "output_type": "execute_result"
    }
   ],
   "source": [
    "cols_num = np.argwhere(np.isnan(media_sem_nan) == False).squeeze()\n",
    "cols_num"
   ]
  },
  {
   "cell_type": "code",
   "execution_count": 377,
   "id": "6b90020b-0e4e-4bb1-b6de-23bb14a204f5",
   "metadata": {},
   "outputs": [],
   "source": [
    "str_data = np.genfromtxt(\"credit.csv\",\n",
    "                            delimiter = '\\t', \n",
    "                            usecols = cols_str,\n",
    "                            dtype = str)"
   ]
  },
  {
   "cell_type": "code",
   "execution_count": 381,
   "id": "292e6252-bd31-4c31-832d-9bc3815085f0",
   "metadata": {},
   "outputs": [
    {
     "data": {
      "text/plain": [
       "array([['C', 'F', 'RN', ..., 'NULL', 'N', 'N'],\n",
       "       ['C', 'F', 'RJ', ..., 'NULL', 'N', 'N'],\n",
       "       ['C', 'F', 'RN', ..., 'NULL', 'N', 'N'],\n",
       "       ...,\n",
       "       ['C', 'M', 'PR', ..., 'ITAPEGICA', 'Y', 'N'],\n",
       "       ['C', 'F', 'SP', ..., 'JARDIM ALTEROSA', 'Y', 'N'],\n",
       "       ['C', 'F', 'SP', ..., 'CIDADE NOVA', 'Y', 'N']], dtype='<U40')"
      ]
     },
     "execution_count": 381,
     "metadata": {},
     "output_type": "execute_result"
    }
   ],
   "source": [
    "str_data"
   ]
  },
  {
   "cell_type": "code",
   "execution_count": 383,
   "id": "c88c3178-247b-4754-b41c-7f3fd8673500",
   "metadata": {},
   "outputs": [],
   "source": [
    "num_data = np.genfromtxt(\"credit.csv\",\n",
    "                            delimiter = '\\t',\n",
    "                            usecols = cols_num,\n",
    "                            filling_values = valores_nan)"
   ]
  },
  {
   "cell_type": "code",
   "execution_count": 385,
   "id": "ef271f51-81fd-4cbd-9a92-d7cd7ebf453d",
   "metadata": {},
   "outputs": [
    {
     "data": {
      "text/plain": [
       "array([[       1.,        5., 30011977., ...,        1.,       32.,      595.],\n",
       "       [       2.,       15., 30011977., ...,        1.,       34.,      230.],\n",
       "       [       3.,        5., 30011977., ...,        1.,       27.,      591.],\n",
       "       ...,\n",
       "       [   49998.,        5., 30011977., ...,        1.,       41.,      715.],\n",
       "       [   49999.,        1., 30011977., ...,        1.,       28.,      320.],\n",
       "       [   50000.,       10., 30011977., ...,        1.,       27.,      124.]])"
      ]
     },
     "execution_count": 385,
     "metadata": {},
     "output_type": "execute_result"
    }
   ],
   "source": [
    "num_data"
   ]
  },
  {
   "cell_type": "code",
   "execution_count": null,
   "id": "f5f66bba-df52-4fbd-b50d-eca00ec8869b",
   "metadata": {},
   "outputs": [],
   "source": []
  }
 ],
 "metadata": {
  "kernelspec": {
   "display_name": "Python 3 (ipykernel)",
   "language": "python",
   "name": "python3"
  },
  "language_info": {
   "codemirror_mode": {
    "name": "ipython",
    "version": 3
   },
   "file_extension": ".py",
   "mimetype": "text/x-python",
   "name": "python",
   "nbconvert_exporter": "python",
   "pygments_lexer": "ipython3",
   "version": "3.12.4"
  }
 },
 "nbformat": 4,
 "nbformat_minor": 5
}
