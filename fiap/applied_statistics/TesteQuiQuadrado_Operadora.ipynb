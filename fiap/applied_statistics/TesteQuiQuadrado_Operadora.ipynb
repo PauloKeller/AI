{
 "cells": [
  {
   "cell_type": "markdown",
   "metadata": {},
   "source": [
    "## APPLIED STATISTICS\n",
    "\n",
    "### Turma 10DTSR\n",
    "\n",
    "### Trabalho prático usando Python\n",
    " \n",
    "### Teste QuiQuadrado"
   ]
  },
  {
   "cell_type": "markdown",
   "metadata": {},
   "source": [
    "### Exemplo \n"
   ]
  },
  {
   "cell_type": "code",
   "execution_count": 1,
   "metadata": {},
   "outputs": [],
   "source": [
    "# Importar as bibliotecas\n",
    "import numpy as np\n",
    "import pandas as pd\n",
    "import matplotlib.pyplot as plt\n",
    "import seaborn as sns\n",
    "\n",
    "\n",
    "pd.options.display.float_format = \"{:.2f}\".format\n",
    "\n",
    "import warnings\n",
    "warnings.simplefilter(action='ignore', category=FutureWarning)"
   ]
  },
  {
   "cell_type": "code",
   "execution_count": 3,
   "metadata": {},
   "outputs": [],
   "source": [
    "# Importar os dados\n",
    "\n",
    "df = pd.read_csv('BaseUFOperadora_csv.csv',sep=';')\n",
    "\n"
   ]
  },
  {
   "cell_type": "code",
   "execution_count": 5,
   "metadata": {},
   "outputs": [
    {
     "data": {
      "text/html": [
       "<div>\n",
       "<style scoped>\n",
       "    .dataframe tbody tr th:only-of-type {\n",
       "        vertical-align: middle;\n",
       "    }\n",
       "\n",
       "    .dataframe tbody tr th {\n",
       "        vertical-align: top;\n",
       "    }\n",
       "\n",
       "    .dataframe thead th {\n",
       "        text-align: right;\n",
       "    }\n",
       "</style>\n",
       "<table border=\"1\" class=\"dataframe\">\n",
       "  <thead>\n",
       "    <tr style=\"text-align: right;\">\n",
       "      <th></th>\n",
       "      <th>id</th>\n",
       "      <th>UF</th>\n",
       "      <th>Operadora</th>\n",
       "    </tr>\n",
       "  </thead>\n",
       "  <tbody>\n",
       "    <tr>\n",
       "      <th>0</th>\n",
       "      <td>1</td>\n",
       "      <td>RJ</td>\n",
       "      <td>OP2</td>\n",
       "    </tr>\n",
       "    <tr>\n",
       "      <th>1</th>\n",
       "      <td>2</td>\n",
       "      <td>Sul</td>\n",
       "      <td>OP3</td>\n",
       "    </tr>\n",
       "    <tr>\n",
       "      <th>2</th>\n",
       "      <td>3</td>\n",
       "      <td>RJ</td>\n",
       "      <td>OP3</td>\n",
       "    </tr>\n",
       "    <tr>\n",
       "      <th>3</th>\n",
       "      <td>4</td>\n",
       "      <td>RJ</td>\n",
       "      <td>OP2</td>\n",
       "    </tr>\n",
       "    <tr>\n",
       "      <th>4</th>\n",
       "      <td>5</td>\n",
       "      <td>RJ</td>\n",
       "      <td>OP2</td>\n",
       "    </tr>\n",
       "  </tbody>\n",
       "</table>\n",
       "</div>"
      ],
      "text/plain": [
       "   id   UF Operadora\n",
       "0   1   RJ       OP2\n",
       "1   2  Sul       OP3\n",
       "2   3   RJ       OP3\n",
       "3   4   RJ       OP2\n",
       "4   5   RJ       OP2"
      ]
     },
     "execution_count": 5,
     "metadata": {},
     "output_type": "execute_result"
    }
   ],
   "source": [
    "df.head()"
   ]
  },
  {
   "cell_type": "code",
   "execution_count": 7,
   "metadata": {},
   "outputs": [
    {
     "name": "stdout",
     "output_type": "stream",
     "text": [
      "<class 'pandas.core.frame.DataFrame'>\n",
      "RangeIndex: 1551 entries, 0 to 1550\n",
      "Data columns (total 3 columns):\n",
      " #   Column     Non-Null Count  Dtype \n",
      "---  ------     --------------  ----- \n",
      " 0   id         1551 non-null   int64 \n",
      " 1   UF         1551 non-null   object\n",
      " 2   Operadora  1551 non-null   object\n",
      "dtypes: int64(1), object(2)\n",
      "memory usage: 36.5+ KB\n"
     ]
    }
   ],
   "source": [
    "df.info()"
   ]
  },
  {
   "cell_type": "markdown",
   "metadata": {},
   "source": [
    "#### Comentários:\n",
    "\n",
    "Abaixo realizamos os teste Chi-square e verificamos que as variáveis e ** ** possuem valor *p* menor que **α**=0.05. Desta forma, reijeitamos H₀ (estas variáveis possuem algum grau de associação entre si)."
   ]
  },
  {
   "cell_type": "code",
   "execution_count": 9,
   "metadata": {},
   "outputs": [],
   "source": [
    "from scipy.stats import chi2_contingency\n",
    "from scipy.stats import chi2"
   ]
  },
  {
   "cell_type": "code",
   "execution_count": 11,
   "metadata": {},
   "outputs": [
    {
     "data": {
      "text/html": [
       "<div>\n",
       "<style scoped>\n",
       "    .dataframe tbody tr th:only-of-type {\n",
       "        vertical-align: middle;\n",
       "    }\n",
       "\n",
       "    .dataframe tbody tr th {\n",
       "        vertical-align: top;\n",
       "    }\n",
       "\n",
       "    .dataframe thead th {\n",
       "        text-align: right;\n",
       "    }\n",
       "</style>\n",
       "<table border=\"1\" class=\"dataframe\">\n",
       "  <thead>\n",
       "    <tr style=\"text-align: right;\">\n",
       "      <th>Operadora</th>\n",
       "      <th>OP1</th>\n",
       "      <th>OP2</th>\n",
       "      <th>OP3</th>\n",
       "      <th>OP4</th>\n",
       "      <th>All</th>\n",
       "    </tr>\n",
       "    <tr>\n",
       "      <th>UF</th>\n",
       "      <th></th>\n",
       "      <th></th>\n",
       "      <th></th>\n",
       "      <th></th>\n",
       "      <th></th>\n",
       "    </tr>\n",
       "  </thead>\n",
       "  <tbody>\n",
       "    <tr>\n",
       "      <th>RJ</th>\n",
       "      <td>111</td>\n",
       "      <td>304</td>\n",
       "      <td>139</td>\n",
       "      <td>48</td>\n",
       "      <td>602</td>\n",
       "    </tr>\n",
       "    <tr>\n",
       "      <th>SP</th>\n",
       "      <td>214</td>\n",
       "      <td>237</td>\n",
       "      <td>78</td>\n",
       "      <td>119</td>\n",
       "      <td>648</td>\n",
       "    </tr>\n",
       "    <tr>\n",
       "      <th>Sul</th>\n",
       "      <td>51</td>\n",
       "      <td>102</td>\n",
       "      <td>126</td>\n",
       "      <td>22</td>\n",
       "      <td>301</td>\n",
       "    </tr>\n",
       "    <tr>\n",
       "      <th>All</th>\n",
       "      <td>376</td>\n",
       "      <td>643</td>\n",
       "      <td>343</td>\n",
       "      <td>189</td>\n",
       "      <td>1551</td>\n",
       "    </tr>\n",
       "  </tbody>\n",
       "</table>\n",
       "</div>"
      ],
      "text/plain": [
       "Operadora  OP1  OP2  OP3  OP4   All\n",
       "UF                                 \n",
       "RJ         111  304  139   48   602\n",
       "SP         214  237   78  119   648\n",
       "Sul         51  102  126   22   301\n",
       "All        376  643  343  189  1551"
      ]
     },
     "execution_count": 11,
     "metadata": {},
     "output_type": "execute_result"
    }
   ],
   "source": [
    "# Teste chi-square entre Uf e Operadora\n",
    "table1 = pd.crosstab(df.UF,df.Operadora, margins=True)\n",
    "table1\n"
   ]
  },
  {
   "cell_type": "code",
   "execution_count": 13,
   "metadata": {},
   "outputs": [
    {
     "data": {
      "text/plain": [
       "Chi2ContingencyResult(statistic=173.37872828220557, pvalue=9.714456287968167e-31, dof=12, expected_freq=array([[ 145.93939394,  249.5718891 ,  133.1308833 ,   73.35783366,\n",
       "         602.        ],\n",
       "       [ 157.09090909,  268.64216634,  143.30367505,   78.96324952,\n",
       "         648.        ],\n",
       "       [  72.96969697,  124.78594455,   66.56544165,   36.67891683,\n",
       "         301.        ],\n",
       "       [ 376.        ,  643.        ,  343.        ,  189.        ,\n",
       "        1551.        ]]))"
      ]
     },
     "execution_count": 13,
     "metadata": {},
     "output_type": "execute_result"
    }
   ],
   "source": [
    "chi2_contingency(table1)"
   ]
  },
  {
   "cell_type": "code",
   "execution_count": 15,
   "metadata": {},
   "outputs": [],
   "source": [
    "stat, p, dof, expected = chi2_contingency(table1)\n",
    "\n"
   ]
  },
  {
   "cell_type": "code",
   "execution_count": 17,
   "metadata": {},
   "outputs": [
    {
     "name": "stdout",
     "output_type": "stream",
     "text": [
      "tabela cruzada entre Operadora e UF \n",
      "  \n",
      "  Operadora  OP1  OP2  OP3  OP4   All\n",
      "UF                                 \n",
      "RJ         111  304  139   48   602\n",
      "SP         214  237   78  119   648\n",
      "Sul         51  102  126   22   301\n",
      "All        376  643  343  189  1551\n"
     ]
    }
   ],
   "source": [
    "print ('tabela cruzada entre Operadora e UF', '\\n ' ,'\\n ' , table1)"
   ]
  },
  {
   "cell_type": "code",
   "execution_count": 19,
   "metadata": {},
   "outputs": [
    {
     "name": "stdout",
     "output_type": "stream",
     "text": [
      "tabela Esperada entre Operadora e UF \n",
      "  \n",
      "  [[ 145.93939394  249.5718891   133.1308833    73.35783366  602.        ]\n",
      " [ 157.09090909  268.64216634  143.30367505   78.96324952  648.        ]\n",
      " [  72.96969697  124.78594455   66.56544165   36.67891683  301.        ]\n",
      " [ 376.          643.          343.          189.         1551.        ]]\n"
     ]
    }
   ],
   "source": [
    "print ('tabela Esperada entre Operadora e UF', '\\n ' ,'\\n ' , expected)\n"
   ]
  },
  {
   "cell_type": "code",
   "execution_count": 21,
   "metadata": {},
   "outputs": [
    {
     "name": "stdout",
     "output_type": "stream",
     "text": [
      "Valores do teste \n",
      "  stat: 173.37872828220557 \n",
      "  p_value: 9.714456287968167e-31 \n",
      "  dof: 12\n"
     ]
    }
   ],
   "source": [
    "print ('Valores do teste', '\\n  stat:', stat,'\\n  p_value:', p, '\\n  dof:', dof)"
   ]
  },
  {
   "cell_type": "markdown",
   "metadata": {},
   "source": [
    "#### Comentários:\n",
    "\n",
    "Abaixo realizamos uma outra forma de teste Chi-square."
   ]
  },
  {
   "cell_type": "code",
   "execution_count": 23,
   "metadata": {},
   "outputs": [
    {
     "name": "stdout",
     "output_type": "stream",
     "text": [
      "Collecting researchpy\n",
      "  Downloading researchpy-0.3.6-py3-none-any.whl.metadata (1.2 kB)\n",
      "Requirement already satisfied: scipy in /opt/anaconda3/lib/python3.12/site-packages (from researchpy) (1.13.1)\n",
      "Requirement already satisfied: numpy in /opt/anaconda3/lib/python3.12/site-packages (from researchpy) (1.26.4)\n",
      "Requirement already satisfied: pandas in /opt/anaconda3/lib/python3.12/site-packages (from researchpy) (2.2.2)\n",
      "Requirement already satisfied: statsmodels in /opt/anaconda3/lib/python3.12/site-packages (from researchpy) (0.14.2)\n",
      "Requirement already satisfied: patsy in /opt/anaconda3/lib/python3.12/site-packages (from researchpy) (0.5.6)\n",
      "Requirement already satisfied: python-dateutil>=2.8.2 in /opt/anaconda3/lib/python3.12/site-packages (from pandas->researchpy) (2.9.0.post0)\n",
      "Requirement already satisfied: pytz>=2020.1 in /opt/anaconda3/lib/python3.12/site-packages (from pandas->researchpy) (2024.1)\n",
      "Requirement already satisfied: tzdata>=2022.7 in /opt/anaconda3/lib/python3.12/site-packages (from pandas->researchpy) (2023.3)\n",
      "Requirement already satisfied: six in /opt/anaconda3/lib/python3.12/site-packages (from patsy->researchpy) (1.16.0)\n",
      "Requirement already satisfied: packaging>=21.3 in /opt/anaconda3/lib/python3.12/site-packages (from statsmodels->researchpy) (23.2)\n",
      "Downloading researchpy-0.3.6-py3-none-any.whl (34 kB)\n",
      "Installing collected packages: researchpy\n",
      "Successfully installed researchpy-0.3.6\n"
     ]
    }
   ],
   "source": [
    "!pip install researchpy\n",
    "import researchpy"
   ]
  },
  {
   "cell_type": "code",
   "execution_count": 25,
   "metadata": {},
   "outputs": [
    {
     "data": {
      "text/plain": [
       "(          Operadora                     \n",
       " Operadora       OP1  OP2  OP3  OP4   All\n",
       " UF                                      \n",
       " RJ              111  304  139   48   602\n",
       " SP              214  237   78  119   648\n",
       " Sul              51  102  126   22   301\n",
       " All             376  643  343  189  1551,\n",
       "                 Chi-square test  results\n",
       " 0  Pearson Chi-square ( 6.0) =    173.38\n",
       " 1                    p-value =      0.00\n",
       " 2                 Cramer's V =      0.24)"
      ]
     },
     "execution_count": 25,
     "metadata": {},
     "output_type": "execute_result"
    }
   ],
   "source": [
    "# # Teste chi-square entre UF e Operadora\n",
    "\n",
    "results = researchpy.crosstab(df['UF'],df['Operadora'], test='chi-square')\n",
    "results"
   ]
  },
  {
   "cell_type": "markdown",
   "metadata": {},
   "source": [
    "## Sobre o O Cramer's V:\n",
    "\n",
    "V de Cramer é uma medida estatística que avalia a força da relação entre duas variáveis categóricas. \n",
    "É também conhecido como coeficiente de Cramer ou phi de Cramer. \r\n",
    "O V de Cramer é usado em tabelas de contingência, onde as variáveis são classificadas em categorias.\n",
    " É uma medida de correlação baseada na estatística qui-quadrado de Pearson. \r\n",
    "O V de Cramer varia de 0 a 1, sendo que 0 indica nenhuma associação e 1 indica uma associação perfeita. "
   ]
  },
  {
   "cell_type": "code",
   "execution_count": null,
   "metadata": {},
   "outputs": [],
   "source": []
  }
 ],
 "metadata": {
  "kernelspec": {
   "display_name": "Python 3 (ipykernel)",
   "language": "python",
   "name": "python3"
  },
  "language_info": {
   "codemirror_mode": {
    "name": "ipython",
    "version": 3
   },
   "file_extension": ".py",
   "mimetype": "text/x-python",
   "name": "python",
   "nbconvert_exporter": "python",
   "pygments_lexer": "ipython3",
   "version": "3.12.4"
  }
 },
 "nbformat": 4,
 "nbformat_minor": 4
}
