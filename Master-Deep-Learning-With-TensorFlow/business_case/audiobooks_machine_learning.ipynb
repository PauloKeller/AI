{
 "cells": [
  {
   "cell_type": "markdown",
   "metadata": {},
   "source": [
    "<h1>Practical example. Audiobooks</h1>"
   ]
  },
  {
   "cell_type": "markdown",
   "metadata": {},
   "source": [
    "## Problem\n",
    "\n",
    "You are given data from an Audiobook app. Logically, it relates only to the audio versions of books. Each customer in the database has made a purchase at least once, that's why he/she is in the database. We want to create a machine learning algorithm based on our available data that can predict if a customer will buy again from the Audiobook company.\n",
    "\n",
    "The main idea is that if a customer has a low probability of coming back, there is no reason to spend any money on advertizing to him/her. If we can focus our efforts ONLY on customers that are likely to convert again, we can make great savings. Moreover, this model can identify the most important metrics for a customer to come back again. Identifying new customers creates value and growth opportunities.\n",
    "\n",
    "You have a .csv summarizing the data. There are several variables: Customer ID, Book length in mins_avg (average of all purchases), Book length in minutes_sum (sum of all purchases), Price Paid_avg (average of all purchases), Price paid_sum (sum of all purchases), Review (a Boolean variable), Review (out of 10), Total minutes listened, Completion (from 0 to 1), Support requests (number), and Last visited minus purchase date (in days).\n",
    "\n",
    "So these are the inputs (excluding customer ID, as it is completely arbitrary. It's more like a name, than a number).\n",
    "\n",
    "The targets are a Boolean variable (so 0, or 1). We are taking a period of 2 years in our inputs, and the next 6 months as targets. So, in fact, we are predicting if: based on the last 2 years of activity and engagement, a customer will convert in the next 6 months. 6 months sounds like a reasonable time. If they don't convert after 6 months, chances are they've gone to a competitor or didn't like the Audiobook way of digesting information. \n",
    "\n",
    "The task is simple: create a machine learning algorithm, which is able to predict if a customer will buy again. \n",
    "\n",
    "This is a classification problem with two classes: won't buy and will buy, represented by 0s and 1s. \n",
    "\n",
    "Good luck!"
   ]
  },
  {
   "cell_type": "markdown",
   "metadata": {},
   "source": [
    "<h2>Create the machine learning algorithm</h2>"
   ]
  },
  {
   "cell_type": "markdown",
   "metadata": {},
   "source": [
    "<h2>Import the relevant libraries</h2>"
   ]
  },
  {
   "cell_type": "code",
   "execution_count": 14,
   "metadata": {},
   "outputs": [],
   "source": [
    "import numpy as np\n",
    "from datetime import datetime\n",
    "\n",
    "import tensorflow_datasets as tfds\n",
    "import tensorflow as tf"
   ]
  },
  {
   "cell_type": "code",
   "execution_count": 16,
   "metadata": {},
   "outputs": [],
   "source": [
    "npz = np.load('Audiobooks_data_train.npz')\n",
    "\n",
    "train_inputs = npz['inputs'].astype(np.float)\n",
    "train_targets = npz['targets'].astype(np.int)\n",
    "\n",
    "npz = np.load('Audiobooks_data_validation.npz')\n",
    "validation_inputs, validation_targets = npz['inputs'].astype(np.float), npz['targets'].astype(np.int)\n",
    "\n",
    "npz = np.load('Audiobooks_data_test.npz')\n",
    "test_inputs, test_targets = npz['inputs'].astype(np.float), npz['targets'].astype(np.int)"
   ]
  },
  {
   "cell_type": "markdown",
   "metadata": {},
   "source": [
    "<h2>Model</h2>\n",
    "\n",
    "Outline, optimizers, loss, early stopping and training"
   ]
  },
  {
   "cell_type": "code",
   "execution_count": 24,
   "metadata": {},
   "outputs": [
    {
     "name": "stdout",
     "output_type": "stream",
     "text": [
      "Epoch 1/100\n",
      "36/36 - 0s - loss: 0.5751 - accuracy: 0.7298 - val_loss: 0.4628 - val_accuracy: 0.8568\n",
      "Epoch 2/100\n",
      "36/36 - 0s - loss: 0.3924 - accuracy: 0.8692 - val_loss: 0.3707 - val_accuracy: 0.8725\n",
      "Epoch 3/100\n",
      "36/36 - 0s - loss: 0.3335 - accuracy: 0.8799 - val_loss: 0.3411 - val_accuracy: 0.8770\n",
      "Epoch 4/100\n",
      "36/36 - 0s - loss: 0.3097 - accuracy: 0.8860 - val_loss: 0.3244 - val_accuracy: 0.8814\n",
      "Epoch 5/100\n",
      "36/36 - 0s - loss: 0.2955 - accuracy: 0.8908 - val_loss: 0.3098 - val_accuracy: 0.8814\n",
      "Epoch 6/100\n",
      "36/36 - 0s - loss: 0.2858 - accuracy: 0.8944 - val_loss: 0.3036 - val_accuracy: 0.8814\n",
      "Epoch 7/100\n",
      "36/36 - 0s - loss: 0.2795 - accuracy: 0.8975 - val_loss: 0.2905 - val_accuracy: 0.8814\n",
      "Epoch 8/100\n",
      "36/36 - 0s - loss: 0.2696 - accuracy: 0.8991 - val_loss: 0.2828 - val_accuracy: 0.8904\n",
      "Epoch 9/100\n",
      "36/36 - 0s - loss: 0.2631 - accuracy: 0.9005 - val_loss: 0.2773 - val_accuracy: 0.8881\n",
      "Epoch 10/100\n",
      "36/36 - 0s - loss: 0.2589 - accuracy: 0.9011 - val_loss: 0.2714 - val_accuracy: 0.8904\n",
      "Epoch 11/100\n",
      "36/36 - 0s - loss: 0.2549 - accuracy: 0.9039 - val_loss: 0.2670 - val_accuracy: 0.8949\n",
      "Epoch 12/100\n",
      "36/36 - 0s - loss: 0.2518 - accuracy: 0.9053 - val_loss: 0.2635 - val_accuracy: 0.8926\n",
      "Epoch 13/100\n",
      "36/36 - 0s - loss: 0.2482 - accuracy: 0.9067 - val_loss: 0.2600 - val_accuracy: 0.8881\n",
      "Epoch 14/100\n",
      "36/36 - 0s - loss: 0.2455 - accuracy: 0.9075 - val_loss: 0.2578 - val_accuracy: 0.8926\n",
      "Epoch 15/100\n",
      "36/36 - 0s - loss: 0.2441 - accuracy: 0.9081 - val_loss: 0.2595 - val_accuracy: 0.8881\n",
      "Epoch 16/100\n",
      "36/36 - 0s - loss: 0.2440 - accuracy: 0.9109 - val_loss: 0.2543 - val_accuracy: 0.8949\n",
      "Epoch 17/100\n",
      "36/36 - 0s - loss: 0.2414 - accuracy: 0.9103 - val_loss: 0.2557 - val_accuracy: 0.8971\n",
      "Epoch 18/100\n",
      "36/36 - 0s - loss: 0.2385 - accuracy: 0.9106 - val_loss: 0.2565 - val_accuracy: 0.8904\n"
     ]
    },
    {
     "data": {
      "text/plain": [
       "<keras.callbacks.History at 0x7f0adc781750>"
      ]
     },
     "execution_count": 24,
     "metadata": {},
     "output_type": "execute_result"
    }
   ],
   "source": [
    "input_size = 10\n",
    "output_size = 2\n",
    "hidden_layer_size = 50\n",
    "\n",
    "model = tf.keras.Sequential([\n",
    "    tf.keras.layers.Dense(hidden_layer_size, activation='relu'),\n",
    "    tf.keras.layers.Dense(hidden_layer_size, activation='relu'),\n",
    "    tf.keras.layers.Dense(output_size, activation='softmax')\n",
    "])\n",
    "\n",
    "model.compile(optimizer='adam', loss='sparse_categorical_crossentropy', metrics=['accuracy'])\n",
    "\n",
    "batch_size = 100\n",
    "\n",
    "max_epochs = 100\n",
    "\n",
    "early_stopping = tf.keras.callbacks.EarlyStopping(patience=2)\n",
    "\n",
    "logdir=\"logs/fit/\" + datetime.now().strftime(\"%Y%m%d-%H%M%S\")\n",
    "tensorboard_callback = tf.keras.callbacks.TensorBoard(log_dir=logdir)\n",
    "\n",
    "model.fit(train_inputs,\n",
    "          train_targets,\n",
    "          batch_size = batch_size,\n",
    "          epochs = max_epochs,\n",
    "          validation_data=(validation_inputs, validation_targets),\n",
    "          verbose=2,\n",
    "          callbacks=[tensorboard_callback, early_stopping])"
   ]
  },
  {
   "cell_type": "markdown",
   "metadata": {},
   "source": [
    "<h2>Test the model</h2>"
   ]
  },
  {
   "cell_type": "code",
   "execution_count": 29,
   "metadata": {},
   "outputs": [
    {
     "name": "stdout",
     "output_type": "stream",
     "text": [
      "[[-2.28424667 -1.12491153 -0.38189654 ... -0.8635056   2.23179102\n",
      "  -0.57015264]\n",
      " [ 0.64678203  2.22511345  0.20727535 ... -0.54895547 -0.20536617\n",
      "  -0.68724869]\n",
      " [ 1.18956512  0.36398846  0.67728889 ... -0.8635056  -0.20536617\n",
      "   0.728549  ]\n",
      " ...\n",
      " [-0.76445401 -0.75268653 -0.38189654 ... -0.8635056  -0.20536617\n",
      "  -0.77240946]\n",
      " [ 1.18956512  0.36398846  0.29995408 ...  0.24017908 -0.20536617\n",
      "  -0.77240946]\n",
      " [-1.8500202  -1.37306153 -0.38189654 ...  1.53700858 -0.20536617\n",
      "   0.61145295]]\n",
      "14/14 [==============================] - 0s 1ms/step - loss: 0.2486 - accuracy: 0.9107\n"
     ]
    }
   ],
   "source": [
    "test_loss, test_accuracy = model.evaluate(test_inputs, test_targets)"
   ]
  },
  {
   "cell_type": "code",
   "execution_count": 28,
   "metadata": {},
   "outputs": [
    {
     "name": "stdout",
     "output_type": "stream",
     "text": [
      "Test loss: 0.25. Test accuracy: 91.07%\n"
     ]
    }
   ],
   "source": [
    "print('Test loss: {0:.2f}. Test accuracy: {1:.2f}%'.format(test_loss, test_accuracy*100.))"
   ]
  }
 ],
 "metadata": {
  "kernelspec": {
   "display_name": "Python 3",
   "language": "python",
   "name": "python3"
  },
  "language_info": {
   "codemirror_mode": {
    "name": "ipython",
    "version": 3
   },
   "file_extension": ".py",
   "mimetype": "text/x-python",
   "name": "python",
   "nbconvert_exporter": "python",
   "pygments_lexer": "ipython3",
   "version": "3.7.6"
  }
 },
 "nbformat": 4,
 "nbformat_minor": 4
}
